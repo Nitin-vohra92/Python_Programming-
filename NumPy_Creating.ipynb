{
 "cells": [
  {
   "cell_type": "markdown",
   "metadata": {},
   "source": [
    "# NumPy:"
   ]
  },
  {
   "cell_type": "code",
   "execution_count": 10,
   "metadata": {},
   "outputs": [
    {
     "name": "stdout",
     "output_type": "stream",
     "text": [
      "[1, 2, 3]\n",
      "[1 2 3]\n",
      "<class 'numpy.ndarray'>\n"
     ]
    }
   ],
   "source": [
    "import numpy as np\n",
    "#numpy can have homogeneous elements only\n",
    "#Creating numpy array : np.array() : Argument(Mandatory) : Array like objest ->List\n",
    "list1 = [1,2,3]\n",
    "nArray1 = np.array(list1)\n",
    "print(list1)\n",
    "print(nArray1)\n",
    "print(type(nArray1))"
   ]
  },
  {
   "cell_type": "code",
   "execution_count": 15,
   "metadata": {},
   "outputs": [
    {
     "name": "stdout",
     "output_type": "stream",
     "text": [
      "[1, 2, 4.5]\n",
      "[1.  2.  4.5]\n",
      "<class 'numpy.ndarray'>\n",
      "[1 2 4]\n",
      "<class 'numpy.ndarray'>\n",
      "3\n"
     ]
    }
   ],
   "source": [
    "#Another argument that can be passes into the array() fucntion : dtype = int (This is the type of numpy array we want)\n",
    "list2 = [1,2,4.5]\n",
    "nArray2 = np.array(list2)\n",
    "print(list2)\n",
    "print(nArray2)\n",
    "print(type(nArray2))\n",
    "nArray2 = np.array(list2 , dtype = int)\n",
    "print(nArray2)\n",
    "print(type(nArray2))\n",
    "print(len(nArray2))"
   ]
  },
  {
   "cell_type": "code",
   "execution_count": 32,
   "metadata": {},
   "outputs": [
    {
     "name": "stdout",
     "output_type": "stream",
     "text": [
      "[1. 1. 1.]\n",
      "[0 0 0]\n",
      "------------------\n",
      "[[1 1 1]\n",
      " [1 1 1]]\n",
      "------------------\n",
      "[['1' '1' '1']\n",
      " ['1' '1' '1']\n",
      " ['1' '1' '1']]\n",
      "------------------\n",
      "[['' '' '']\n",
      " ['' '' '']\n",
      " ['' '' '']]\n",
      "------------------\n",
      "[5 5 5]\n",
      "<class 'numpy.int64'>\n",
      "------------------\n",
      "[[5. 5. 5. 5. 5.]\n",
      " [5. 5. 5. 5. 5.]\n",
      " [5. 5. 5. 5. 5.]\n",
      " [5. 5. 5. 5. 5.]]\n",
      "------------------\n",
      "[2.5e-323 2.5e-323 2.5e-323]\n",
      "<class 'numpy.float64'>\n"
     ]
    }
   ],
   "source": [
    "#More fucntions to create a numpy array:\n",
    "arr = np.ones(3)\n",
    "print(arr)\n",
    "arr = np.zeros(3,dtype = int)\n",
    "print(arr)\n",
    "#These can be used to create 2D arrays by passing a tuple as the first argument. Tuple is the dimentions of the array.\n",
    "print(\"------------------\")\n",
    "arr = np.ones((2,3) , dtype = int)\n",
    "print(arr)\n",
    "print(\"------------------\")\n",
    "arr = np.ones((3,3) , dtype = str)\n",
    "print(arr)\n",
    "print(\"------------------\")\n",
    "arr = np.zeros((3,3) , dtype = str) #zeros give '' on dtype = str\n",
    "print(arr)\n",
    "#Full fucntion : generic for 0,1 and all values:\n",
    "print(\"------------------\")\n",
    "arr = np.full(3,5) #Minimum 2 arguments are compulsary\n",
    "print(arr)\n",
    "print(type(arr[0]))\n",
    "print(\"------------------\")\n",
    "arr = np.full((4,5),5,dtype = float) #in full() default data type is int (Not float : unlike ones and zeros)\n",
    "print(arr)\n",
    "print(\"------------------\")\n",
    "arr = np.empty(3) # empty() function gives non initialsied values : Random. Rest all same : Deafult float\n",
    "print(arr)\n",
    "print(type(arr[0]))"
   ]
  },
  {
   "cell_type": "code",
   "execution_count": 49,
   "metadata": {},
   "outputs": [
    {
     "name": "stdout",
     "output_type": "stream",
     "text": [
      "[0 1 2 3 4]\n",
      "------------------\n",
      "[ 2.          2.16326531  2.32653061  2.48979592  2.65306122  2.81632653\n",
      "  2.97959184  3.14285714  3.30612245  3.46938776  3.63265306  3.79591837\n",
      "  3.95918367  4.12244898  4.28571429  4.44897959  4.6122449   4.7755102\n",
      "  4.93877551  5.10204082  5.26530612  5.42857143  5.59183673  5.75510204\n",
      "  5.91836735  6.08163265  6.24489796  6.40816327  6.57142857  6.73469388\n",
      "  6.89795918  7.06122449  7.2244898   7.3877551   7.55102041  7.71428571\n",
      "  7.87755102  8.04081633  8.20408163  8.36734694  8.53061224  8.69387755\n",
      "  8.85714286  9.02040816  9.18367347  9.34693878  9.51020408  9.67346939\n",
      "  9.83673469 10.        ]\n",
      "Step value is :  0.16326530612244916\n",
      "Step value is :  0.16326530612244872\n",
      "------------------\n",
      "[2.   2.16 2.32 2.48 2.64 2.8  2.96 3.12 3.28 3.44 3.6  3.76 3.92 4.08\n",
      " 4.24 4.4  4.56 4.72 4.88 5.04 5.2  5.36 5.52 5.68 5.84 6.   6.16 6.32\n",
      " 6.48 6.64 6.8  6.96 7.12 7.28 7.44 7.6  7.76 7.92 8.08 8.24 8.4  8.56\n",
      " 8.72 8.88 9.04 9.2  9.36 9.52 9.68 9.84]\n",
      "Step value is :  0.16000000000000014\n",
      "Step value is :  0.1599999999999997\n",
      "------------------\n",
      "[ 2.          2.88888889  3.77777778  4.66666667  5.55555556  6.44444444\n",
      "  7.33333333  8.22222222  9.11111111 10.        ]\n",
      "[ 2  2  3  4  5  6  7  8  9 10]\n"
     ]
    }
   ],
   "source": [
    "#More ways to create numpy array : Evenly spaced values\n",
    "#np.arange() : 4 arguments : startValue , endValue (exclusive) , step , dType. Only endValue is compulsary. startValue default=0\n",
    "arr = np.arange(5)\n",
    "print(arr)\n",
    "print(\"------------------\")\n",
    "#np.linspace() : start , stop(inclusive) , Number of samples(default = 50) , dtype , endpoint = False/True(default)\n",
    "arr = np.linspace(2,10)\n",
    "print(arr)\n",
    "print(\"Step value is : \",(arr[1]-arr[0]))\n",
    "print(\"Step value is : \",(arr[2]-arr[1]))\n",
    "print(\"------------------\")\n",
    "arr = np.linspace(2 , 10 , endpoint = False)\n",
    "print(arr)\n",
    "print(\"Step value is : \",(arr[1]-arr[0]))\n",
    "print(\"Step value is : \",(arr[2]-arr[1]))\n",
    "print(\"------------------\")\n",
    "arr = np.linspace(2,10,10)\n",
    "print(arr)\n",
    "arr = np.linspace(2,10,10,dtype = int)\n",
    "print(arr)"
   ]
  },
  {
   "cell_type": "code",
   "execution_count": 53,
   "metadata": {},
   "outputs": [
    {
     "name": "stdout",
     "output_type": "stream",
     "text": [
      "[[1 0 0]\n",
      " [0 1 0]\n",
      " [0 0 1]]\n",
      "------------------\n",
      "[[1. 0. 0. 0.]\n",
      " [0. 1. 0. 0.]\n",
      " [0. 0. 1. 0.]]\n"
     ]
    }
   ],
   "source": [
    "#Creating identity matrix:\n",
    "arr = np.identity(3,dtype = int) #Only 1 argument for size (dtype can be used)\n",
    "print(arr)\n",
    "print(\"------------------\")\n",
    "arr = np.eye(3,4) #Can take 1 or 2 arguments for size for a matrix of mXn (dtype can be used)\n",
    "print(arr)"
   ]
  },
  {
   "cell_type": "code",
   "execution_count": 63,
   "metadata": {},
   "outputs": [
    {
     "name": "stdout",
     "output_type": "stream",
     "text": [
      "[0.22413527 0.25236635]\n",
      "------------------\n",
      "[[47 47 47 42 47 40 42]\n",
      " [44 46 45 42 47 43 47]\n",
      " [45 48 40 44 44 40 46]\n",
      " [42 41 45 46 40 41 48]\n",
      " [46 46 47 42 48 41 44]\n",
      " [42 48 47 42 49 42 40]]\n"
     ]
    }
   ],
   "source": [
    "#Creating array with random values:\n",
    "arr = np.random.rand(2) #Generates array of size 2 and values between 0 to 1 : 0 to n can be obtained by multipling by n\n",
    "#in rand() dtype can't be used\n",
    "#Also if no argument is passed we get 1 random integer between 0 and 1 \n",
    "print(arr)\n",
    "print(\"------------------\")\n",
    "arr = np.random.randint(40,50,(6,7)) #Arrguments: minValue , maxValue(Mandatory) , size(by default returns a random integer)\n",
    "print(arr)"
   ]
  }
 ],
 "metadata": {
  "kernelspec": {
   "display_name": "Python 3",
   "language": "python",
   "name": "python3"
  },
  "language_info": {
   "codemirror_mode": {
    "name": "ipython",
    "version": 3
   },
   "file_extension": ".py",
   "mimetype": "text/x-python",
   "name": "python",
   "nbconvert_exporter": "python",
   "pygments_lexer": "ipython3",
   "version": "3.7.3"
  }
 },
 "nbformat": 4,
 "nbformat_minor": 2
}
