{
 "cells": [
  {
   "cell_type": "code",
   "execution_count": 28,
   "metadata": {},
   "outputs": [
    {
     "name": "stdout",
     "output_type": "stream",
     "text": [
      "[0. 2. 7. ... 0. 0. 0.]\n",
      "[0. 0. 0. ... 0. 0. 0.]\n",
      "[0. 2. 7. ... 0. 0. 0.]\n"
     ]
    }
   ],
   "source": [
    "import numpy as np\n",
    "import csv\n",
    "ob = open(\"year2017.csv\")\n",
    "data = csv.DictReader(ob , skipinitialspace = True) \n",
    "killed = []\n",
    "country = []\n",
    "wounded = []\n",
    "\n",
    "for row in data:\n",
    "    killed.append(row[\"Killed\"])\n",
    "    country.append(row[\"Country\"])\n",
    "    wounded.append(row[\"Wounded\"])\n",
    "killedArr = np.array(killed)\n",
    "#At this point we have lot of missing values.So we can't convert it to float:\n",
    "killedArr[killedArr == ''] = '0.0'\n",
    "#Here killedArr == '' creates a boolean array and then the values at those boolean array are changed = '0.0'\n",
    "#Now to convert it into float array (from string)\n",
    "killedArr = np.array(killedArr , dtype = float)\n",
    "print(killedArr)\n",
    "\n",
    "#Same for wounded \n",
    "woundedArr = np.array(wounded)\n",
    "woundedArr[woundedArr == ''] = '0.0'\n",
    "woundedArr = np.array(woundedArr , dtype = float)\n",
    "print(woundedArr)\n",
    "\n",
    "total_Killed_and_wounded = killedArr + woundedArr\n",
    "print(total_Killed_and_wounded )"
   ]
  }
 ],
 "metadata": {
  "kernelspec": {
   "display_name": "Python 3",
   "language": "python",
   "name": "python3"
  },
  "language_info": {
   "codemirror_mode": {
    "name": "ipython",
    "version": 3
   },
   "file_extension": ".py",
   "mimetype": "text/x-python",
   "name": "python",
   "nbconvert_exporter": "python",
   "pygments_lexer": "ipython3",
   "version": "3.7.3"
  }
 },
 "nbformat": 4,
 "nbformat_minor": 2
}
