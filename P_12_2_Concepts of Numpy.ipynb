{
 "cells": [
  {
   "cell_type": "code",
   "execution_count": 12,
   "metadata": {},
   "outputs": [
    {
     "name": "stdout",
     "output_type": "stream",
     "text": [
      "[1 2 3 4 5]\n",
      "<memory at 0x1070e4108>\n",
      "(5,)\n",
      "int64\n",
      "(8,)\n",
      "----------------------------------\n",
      "[[1 2 3 4]\n",
      " [5 6 7 8]]\n",
      "<memory at 0x105e81120>\n",
      "(2, 4)\n",
      "int64\n",
      "(32, 8)\n"
     ]
    }
   ],
   "source": [
    "#Knowing about the array:\n",
    "import numpy as np\n",
    "li = [1,2,3,4,5]\n",
    "arr = np.array(li)\n",
    "\n",
    "print(arr)\n",
    "\n",
    "print(arr.data) #Address of the first element \n",
    "print(arr.shape) #Dimentions of the array\n",
    "print(arr.dtype) #datatype\n",
    "print(arr.strides) #Size per block\n",
    "\n",
    "print(\"----------------------------------\")\n",
    "li = [[1,2,3,4],[5,6,7,8]]\n",
    "arr = np.array(li)\n",
    "print(arr)\n",
    "print(arr.data) #Address of the first element \n",
    "print(arr.shape) #Dimentions of the array\n",
    "print(arr.dtype) #datatype\n",
    "print(arr.strides) #Size per block"
   ]
  },
  {
   "cell_type": "code",
   "execution_count": 25,
   "metadata": {},
   "outputs": [
    {
     "name": "stdout",
     "output_type": "stream",
     "text": [
      "[[ 1  2  3  4]\n",
      " [ 5  6  7  8]\n",
      " [ 9 10 11 12]\n",
      " [13 14 15 16]]\n",
      "----------------------------------\n",
      "[ 4  8 12]\n",
      "----------------------------------\n",
      "[13 14 15]\n",
      "----------------------------------\n",
      "[[11 12]\n",
      " [15 16]]\n"
     ]
    }
   ],
   "source": [
    "#Slicing in 2d Numpy:\n",
    "li = [[1,2,3,4,] , [5,6,7,8] , [9,10,11,12] , [13,14,15,16]]\n",
    "arr = np.array(li)\n",
    "print(arr)\n",
    "print(\"----------------------------------\")\n",
    "#If I write : li[0:3][3] : Error : As li[0:3] = [[1,2,3,4,] , [5,6,7,8] , [9,10,11,12]]\n",
    "#But in Numpy :\n",
    "print(arr[0:3 , 3]) #Note here arr[0:3][3] will not work. \n",
    "print(\"----------------------------------\")\n",
    "print(arr[3][0:3]) #This works\n",
    "print(\"----------------------------------\")\n",
    "print(arr[2:4 , 2:4])"
   ]
  },
  {
   "cell_type": "code",
   "execution_count": 32,
   "metadata": {},
   "outputs": [
    {
     "name": "stdout",
     "output_type": "stream",
     "text": [
      "[[ 1  2  3  4  5]\n",
      " [ 6  7  8  9 10]\n",
      " [11 12 13 14 15]\n",
      " [16 17 18 19 20]]\n",
      "<class 'numpy.ndarray'>\n",
      "[[ 1  2  3  4]\n",
      " [ 6  7  8  9]\n",
      " [11 12 13 14]]\n"
     ]
    }
   ],
   "source": [
    "#Reshape fucntion:\n",
    "arr=np.arange(1,21,1)\n",
    "arr=arr.reshape(4,5)\n",
    "print(arr)\n",
    "print(type(arr))\n",
    "print((arr[0:3 , 0:4]))"
   ]
  },
  {
   "cell_type": "code",
   "execution_count": 61,
   "metadata": {},
   "outputs": [
    {
     "name": "stdout",
     "output_type": "stream",
     "text": [
      "[1 2 3 4]\n",
      "[2 3 4 5]\n"
     ]
    }
   ],
   "source": [
    "#Adding one to all elements of numpy arr:\n",
    "arr = np.arange(1,5,1)\n",
    "print(arr)\n",
    "arr = arr + 1\n",
    "print(arr)"
   ]
  },
  {
   "cell_type": "code",
   "execution_count": 67,
   "metadata": {},
   "outputs": [
    {
     "name": "stdout",
     "output_type": "stream",
     "text": [
      "a :  [1 2 3 4]\n",
      "b :  [1 3 5 7]\n",
      "[ 2  5  8 11]\n",
      "[0 1 2 3]\n",
      "[ 1  6 15 28]\n",
      "[1.         1.5        1.66666667 1.75      ]\n",
      "[    1     8   243 16384]\n"
     ]
    }
   ],
   "source": [
    "#Performing arthematic operations on 2 numpy array : \n",
    "a = np.arange(1,5,1)\n",
    "b = np.arange(1,9,2)\n",
    "print(\"a : \",a)\n",
    "print(\"b : \",b)\n",
    "c = a+b\n",
    "print(c)\n",
    "c = b-a\n",
    "print(c)\n",
    "c = a*b\n",
    "print(c)\n",
    "c = b/a\n",
    "print(c)\n",
    "c = a**b\n",
    "print(c)"
   ]
  },
  {
   "cell_type": "code",
   "execution_count": 76,
   "metadata": {},
   "outputs": [
    {
     "name": "stdout",
     "output_type": "stream",
     "text": [
      "[1 2 3 4]\n",
      "Min element :  1\n",
      "Min element index :  0\n",
      "Max element :  4\n",
      "Max element index :  3\n",
      "sum :  10\n",
      "Mean :  2.5\n"
     ]
    }
   ],
   "source": [
    "#Some usefull inbuilt functions:\n",
    "arr = np.arange(1,5,1)\n",
    "print(arr)\n",
    "print(\"Min element : \",arr.min()) #Returns the minimum element\n",
    "print(\"Min element index : \",arr.argmin()) #Returns the index of the minimum number\n",
    "print(\"Max element : \",arr.max())\n",
    "print(\"Max element index : \",arr.argmax())\n",
    "print(\"sum : \" , arr.sum())\n",
    "print(\"Mean : \" , arr.mean())"
   ]
  },
  {
   "cell_type": "code",
   "execution_count": 85,
   "metadata": {},
   "outputs": [
    {
     "name": "stdout",
     "output_type": "stream",
     "text": [
      "arr1 > arr2 : [False False  True  True  True]\n",
      "arr1 < arr2 : [ True False False False False]\n",
      "arr1 == arr2 : [False  True False False False]\n",
      "arr > 15 :  [False  True False  True  True]\n"
     ]
    }
   ],
   "source": [
    "#Relational operations on Numpy arrays:\n",
    "arr1 = np.array([7,16,14,20,24])\n",
    "arr2 = np.array([12,16,11,14,16])\n",
    "print(\"arr1 > arr2 :\",arr1 > arr2)\n",
    "print(\"arr1 < arr2 :\",arr1 < arr2)\n",
    "print(\"arr1 == arr2 :\",arr1 == arr2)\n",
    "#Also we can compare with a scalar:\n",
    "print(\"arr > 15 : \",arr1 > 15)"
   ]
  },
  {
   "cell_type": "code",
   "execution_count": 87,
   "metadata": {},
   "outputs": [
    {
     "name": "stdout",
     "output_type": "stream",
     "text": [
      "OR :  [ True  True  True False]\n",
      "AND :  [ True False False False]\n",
      "NOT :  [False  True False  True]\n"
     ]
    }
   ],
   "source": [
    "#Logical operations:\n",
    "arr1 = np.array([True,False,True,False])\n",
    "arr2 = np.array([True,True,False,False])\n",
    "print(\"OR : \",np.logical_or(arr1 , arr2))\n",
    "print(\"AND : \",np.logical_and(arr1 , arr2))\n",
    "print(\"NOT : \",np.logical_not(arr1))"
   ]
  },
  {
   "cell_type": "code",
   "execution_count": 96,
   "metadata": {},
   "outputs": [
    {
     "name": "stdout",
     "output_type": "stream",
     "text": [
      "[False  True  True  True  True]\n",
      "[16 14 20 24]\n",
      "[ 7 18 14 22 26]\n",
      "indexes of satifing condition :  (array([1, 3, 4]),)\n",
      "['b' 'd' 'e']\n"
     ]
    }
   ],
   "source": [
    "#Boolean indexing:\n",
    "arr = np.array([7,16,14,20,24])\n",
    "print(arr > 10)\n",
    "#To obtain only those element which satify a condition:\n",
    "arrWithCondition = arr[arr>10]\n",
    "print(arrWithCondition)\n",
    "#Also we can update only some specific values by using this:\n",
    "arr[arr>15] += 2 #Adding to to only those elements that are > 15\n",
    "print(arr)\n",
    "#To get the indexes where our condition is satisfied:\n",
    "ind = np.where(arr>15) \n",
    "print(\"indexes of satifing condition : \" , ind)\n",
    "#Now we can use these indexes to seperate elements of other array:\n",
    "a = np.array(['a' , 'b' , 'c' , 'd' , 'e' , 'f'])\n",
    "print(a[ind])"
   ]
  },
  {
   "cell_type": "code",
   "execution_count": 3,
   "metadata": {},
   "outputs": [
    {
     "name": "stdout",
     "output_type": "stream",
     "text": [
      "Array is: \n",
      " [[24 20  6  5  3  5]\n",
      " [19 26 25 10 25 16]\n",
      " [ 8 20 29  3 29 10]\n",
      " [16  3 16 16 14 13]\n",
      " [25 20 16  9 24 25]]\n",
      "[[ True False False False False False]\n",
      " [False  True  True False  True False]\n",
      " [False False  True False  True False]\n",
      " [False False False False False False]\n",
      " [ True False False False  True  True]]\n",
      "Printing arr>20 by passing boolArr:  [24 26 25 25 29 29 25 24 25]\n",
      "[[100  20   6   5   3   5]\n",
      " [ 19 100 100  10 100  16]\n",
      " [  8  20 100   3 100  10]\n",
      " [ 16   3  16  16  14  13]\n",
      " [100  20  16   9 100 100]]\n",
      "[False False False False False]\n",
      "[[100  20   6   5   3   5]\n",
      " [ 19 100 100  10 100  16]\n",
      " [  8  20 100   3 100  10]\n",
      " [ 16   3  16  16  14  13]\n",
      " [100  20  16   9 100 100]]\n"
     ]
    }
   ],
   "source": [
    "#Boolean indexing for 2D arrays:\n",
    "import numpy as np\n",
    "arr = np.random.randint(1,30 , (5,6))\n",
    "print(\"Array is: \\n\",arr)\n",
    "boolArr = arr>20\n",
    "print(boolArr)\n",
    "a = arr[boolArr]\n",
    "print(\"Printing arr>20 by passing boolArr: \",a)\n",
    "#Upadating in arr:\n",
    "arr[boolArr] = 100\n",
    "print(arr)\n",
    "#Now say we want to make some changes according to some condition but Only in 1 column (say 3) of the array.\n",
    "boolArr = (arr[: , 3]==100)\n",
    "print(boolArr)\n",
    "#Now to print arr:\n",
    "arr[boolArr , 3] = 500 #used boolArr as row index as row is changing and column = 3.\n",
    "print(arr)"
   ]
  },
  {
   "cell_type": "code",
   "execution_count": 26,
   "metadata": {},
   "outputs": [
    {
     "name": "stdout",
     "output_type": "stream",
     "text": [
      "arr1 : \n",
      " [[1 4 2]\n",
      " [1 1 2]\n",
      " [4 1 4]]\n",
      "arr2 : \n",
      " [4 2 2]\n",
      "arr1 + arr2 : \n",
      " [[5 6 4]\n",
      " [5 3 4]\n",
      " [8 3 6]]\n",
      "----------------------------------\n",
      "arr1 : \n",
      " [[1 4 2]\n",
      " [1 1 2]\n",
      " [4 1 4]]\n",
      "arr2 : \n",
      " [[2]\n",
      " [3]\n",
      " [1]]\n",
      "arr1 + arr2 : \n",
      " [[3 6 4]\n",
      " [4 4 5]\n",
      " [5 2 5]]\n",
      "----------------------------------\n",
      "arr1 : \n",
      " [1 2 3]\n",
      "arr2 : \n",
      " [[100]\n",
      " [200]\n",
      " [300]]\n",
      "arr1 + arr2 : \n",
      " [[101 102 103]\n",
      " [201 202 203]\n",
      " [301 302 303]]\n"
     ]
    }
   ],
   "source": [
    "#Broadcasting : For array with unequal dimentions\n",
    "#Now if dimention of 2 arrays are equal we can do element by element operations \n",
    "#So 3,3 and 3,2 are not compatible But 3,3 and 1,3 are compatible\n",
    "arr1 = np.random.randint(1,5,(3,3))\n",
    "arr2 = np.random.randint(1,5,3)\n",
    "print(\"arr1 : \\n\" , arr1)\n",
    "print(\"arr2 : \\n\" , arr2)\n",
    "ans = arr1+arr2\n",
    "print(\"arr1 + arr2 : \\n\",ans) # 1,3 sized array is added to each row of 3,3 array\n",
    "print(\"----------------------------------\")\n",
    "arr2 = np.random.randint(1,5,(3,1))\n",
    "print(\"arr1 : \\n\" , arr1)\n",
    "print(\"arr2 : \\n\" , arr2)\n",
    "ans = arr1+arr2\n",
    "print(\"arr1 + arr2 : \\n\",ans) # 3,1 sized array is added to each column of 3,3 array\n",
    "print(\"----------------------------------\")\n",
    "arr1 = np.array([1,2,3])\n",
    "arr2 = np.array([[100],[200],[300]])\n",
    "print(\"arr1 : \\n\",arr1)\n",
    "print(\"arr2 : \\n\",arr2)\n",
    "#Now see how broadcasting works here:\n",
    "ans = arr1+arr2\n",
    "print(\"arr1 + arr2 : \\n\",ans)"
   ]
  },
  {
   "cell_type": "code",
   "execution_count": 13,
   "metadata": {},
   "outputs": [
    {
     "name": "stdout",
     "output_type": "stream",
     "text": [
      "[[1 5]\n",
      " [8 7]\n",
      " [5 4]]\n",
      "[[1 8 5]\n",
      " [5 7 4]]\n"
     ]
    }
   ],
   "source": [
    "#Transpose an array : Use np.transpose() : Take a matrix and returns it's transpose\n",
    "arr = np.random.randint(1,10,(3,2))\n",
    "print(arr)\n",
    "arr = np.transpose(arr)\n",
    "print(arr)"
   ]
  },
  {
   "cell_type": "code",
   "execution_count": 15,
   "metadata": {},
   "outputs": [
    {
     "name": "stdout",
     "output_type": "stream",
     "text": [
      "First array:\n",
      "[[1 2 3]\n",
      " [4 5 6]]\n",
      "\n",
      "The shape of first array:\n",
      "(2, 3)\n",
      "\n",
      "Second array:\n",
      "[[1 2]\n",
      " [3 4]\n",
      " [5 6]]\n",
      "\n",
      "The shape of second array:\n",
      "(3, 2)\n",
      "\n",
      "Resize the second array:\n",
      "[[1 2 3]\n",
      " [4 5 6]\n",
      " [1 2 3]]\n"
     ]
    }
   ],
   "source": [
    "#resize() :\n",
    "a = np.array([[1,2,3],[4,5,6]]) \n",
    "\n",
    "print('First array:') \n",
    "print(a)\n",
    "print()\n",
    "\n",
    "print('The shape of first array:') \n",
    "print(a.shape) \n",
    "print()  \n",
    "b = np.resize(a, (3,2)) \n",
    "\n",
    "print('Second array:') \n",
    "print(b) \n",
    "print()  \n",
    "\n",
    "print('The shape of second array:') \n",
    "print(b.shape)\n",
    "print()  \n",
    "# Observe that first row of a is repeated in b since size is bigger \n",
    "\n",
    "print('Resize the second array:') \n",
    "b = np.resize(a,(3,3)) \n",
    "print(b)"
   ]
  },
  {
   "cell_type": "code",
   "execution_count": 21,
   "metadata": {},
   "outputs": [
    {
     "name": "stdout",
     "output_type": "stream",
     "text": [
      "The original array:\n",
      "[0 1 2 3 4 5 6 7]\n",
      "\n",
      "The modified array:\n",
      "[[0 1]\n",
      " [2 3]\n",
      " [4 5]\n",
      " [6 7]]\n"
     ]
    }
   ],
   "source": [
    "#reshape():\n",
    "a = np.arange(8)\n",
    "print('The original array:')\n",
    "print(a)\n",
    "print()\n",
    "\n",
    "b = a.reshape(4,2) #The number of elements must be the same : (4,2) and (1,8)\n",
    "print('The modified array:')\n",
    "print(b)"
   ]
  }
 ],
 "metadata": {
  "kernelspec": {
   "display_name": "Python 3",
   "language": "python",
   "name": "python3"
  },
  "language_info": {
   "codemirror_mode": {
    "name": "ipython",
    "version": 3
   },
   "file_extension": ".py",
   "mimetype": "text/x-python",
   "name": "python",
   "nbconvert_exporter": "python",
   "pygments_lexer": "ipython3",
   "version": "3.7.3"
  }
 },
 "nbformat": 4,
 "nbformat_minor": 2
}
